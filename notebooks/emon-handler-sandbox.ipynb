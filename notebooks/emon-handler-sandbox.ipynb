{
 "cells": [
  {
   "cell_type": "markdown",
   "id": "1c529968-539e-4ac2-8fa2-70ea984d008a",
   "metadata": {},
   "source": [
    "# emon-handler-sandbox\n",
    "Testing boto3 for use in a Lambda function."
   ]
  },
  {
   "cell_type": "code",
   "execution_count": 1,
   "id": "6774e8e9-a162-4140-8ccc-e8f98b41c79a",
   "metadata": {},
   "outputs": [],
   "source": [
    "import boto3\n",
    "import time\n",
    "import random\n",
    "from decimal import Decimal"
   ]
  },
  {
   "cell_type": "code",
   "execution_count": 2,
   "id": "b2248c67-e73b-4d72-a209-c2d052c53bc5",
   "metadata": {},
   "outputs": [],
   "source": [
    "dynamodb = boto3.resource('dynamodb')\n",
    "table = dynamodb.Table('test-sensor-data')"
   ]
  },
  {
   "cell_type": "code",
   "execution_count": 5,
   "id": "45113c4b-ea42-444c-9db0-f198b91e8452",
   "metadata": {
    "tags": []
   },
   "outputs": [
    {
     "name": "stdout",
     "output_type": "stream",
     "text": [
      "Creating mock data\n",
      "Message 1: {'time': 1641671208, 'data': {'voltage': 119.3, 'current': 71}}\n",
      "Message 2: {'time': 1641671209, 'data': {'voltage': 120.9, 'current': 50}}\n",
      "Message 3: {'time': 1641671210, 'data': {'voltage': 119.5, 'current': 34}}\n",
      "Message 4: {'time': 1641671211, 'data': {'voltage': 119.0, 'current': 44}}\n",
      "Message 5: {'time': 1641671212, 'data': {'voltage': 120.6, 'current': 58}}\n",
      "\n",
      "Writing to DynamoDB... Done!\n"
     ]
    }
   ],
   "source": [
    "# Create some mock event data\n",
    "print('Creating mock data')\n",
    "event_data = []\n",
    "for i in range(5):\n",
    "    msg = {\n",
    "        'time': int(time.time()),\n",
    "        'data': {\n",
    "            'voltage': round(120 + random.uniform(-1, 1), 1),\n",
    "            'current': 50 + random.randint(-40, 40)\n",
    "        }\n",
    "    }\n",
    "    \n",
    "    event_data.append(msg)\n",
    "    print(f'Message {i+1}: {msg}')\n",
    "    time.sleep(1)\n",
    "\n",
    "print('\\nWriting to DynamoDB...', end=' ')\n",
    "    \n",
    "with table.batch_writer() as batch:\n",
    "    for msg in event_data:\n",
    "        item = {\n",
    "            'timestamp': msg['time'],\n",
    "            'voltage': Decimal(str(msg['data']['voltage'])),\n",
    "            'current': msg['data']['current'],\n",
    "            'power': int(msg['data']['voltage'] * msg['data']['current']),\n",
    "            'expdate': msg['time'] + 604800\n",
    "        }\n",
    "        \n",
    "        batch.put_item(Item=item)\n",
    "        \n",
    "print('Done!')"
   ]
  }
 ],
 "metadata": {
  "kernelspec": {
   "display_name": "Python 3",
   "language": "python",
   "name": "python3"
  },
  "language_info": {
   "codemirror_mode": {
    "name": "ipython",
    "version": 3
   },
   "file_extension": ".py",
   "mimetype": "text/x-python",
   "name": "python",
   "nbconvert_exporter": "python",
   "pygments_lexer": "ipython3",
   "version": "3.8.8"
  }
 },
 "nbformat": 4,
 "nbformat_minor": 5
}
